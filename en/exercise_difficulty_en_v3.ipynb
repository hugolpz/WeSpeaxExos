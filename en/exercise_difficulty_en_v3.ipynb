{
  "cells": [
    {
      "cell_type": "code",
      "execution_count": 1,
      "metadata": {
        "colab": {
          "base_uri": "https://localhost:8080/"
        },
        "id": "CL15ZbRkAWb7",
        "outputId": "f268b679-02cf-418e-a6f9-e695c15c450b"
      },
      "outputs": [
        {
          "name": "stdout",
          "output_type": "stream",
          "text": [
            "Looking in indexes: https://pypi.org/simple, https://us-python.pkg.dev/colab-wheels/public/simple/\n",
            "Collecting textstat\n",
            "  Downloading textstat-0.7.3-py3-none-any.whl (105 kB)\n",
            "\u001b[K     |████████████████████████████████| 105 kB 6.8 MB/s \n",
            "\u001b[?25hCollecting pyphen\n",
            "  Downloading pyphen-0.13.0-py3-none-any.whl (2.0 MB)\n",
            "\u001b[K     |████████████████████████████████| 2.0 MB 40.6 MB/s \n",
            "\u001b[?25hInstalling collected packages: pyphen, textstat\n",
            "Successfully installed pyphen-0.13.0 textstat-0.7.3\n",
            "Looking in indexes: https://pypi.org/simple, https://us-python.pkg.dev/colab-wheels/public/simple/\n",
            "Collecting wordfreq\n",
            "  Downloading wordfreq-3.0.2-py3-none-any.whl (56.8 MB)\n",
            "\u001b[K     |████████████████████████████████| 56.8 MB 1.1 MB/s \n",
            "\u001b[?25hCollecting ftfy>=6.1\n",
            "  Downloading ftfy-6.1.1-py3-none-any.whl (53 kB)\n",
            "\u001b[K     |████████████████████████████████| 53 kB 2.0 MB/s \n",
            "\u001b[?25hRequirement already satisfied: regex>=2021.7.6 in /usr/local/lib/python3.7/dist-packages (from wordfreq) (2022.6.2)\n",
            "Requirement already satisfied: msgpack>=1.0 in /usr/local/lib/python3.7/dist-packages (from wordfreq) (1.0.4)\n",
            "Requirement already satisfied: langcodes>=3.0 in /usr/local/lib/python3.7/dist-packages (from wordfreq) (3.3.0)\n",
            "Requirement already satisfied: wcwidth>=0.2.5 in /usr/local/lib/python3.7/dist-packages (from ftfy>=6.1->wordfreq) (0.2.5)\n",
            "Installing collected packages: ftfy, wordfreq\n",
            "Successfully installed ftfy-6.1.1 wordfreq-3.0.2\n",
            "Looking in indexes: https://pypi.org/simple, https://us-python.pkg.dev/colab-wheels/public/simple/\n",
            "Requirement already satisfied: textblob in /usr/local/lib/python3.7/dist-packages (0.15.3)\n",
            "Requirement already satisfied: nltk>=3.1 in /usr/local/lib/python3.7/dist-packages (from textblob) (3.7)\n",
            "Requirement already satisfied: click in /usr/local/lib/python3.7/dist-packages (from nltk>=3.1->textblob) (7.1.2)\n",
            "Requirement already satisfied: joblib in /usr/local/lib/python3.7/dist-packages (from nltk>=3.1->textblob) (1.2.0)\n",
            "Requirement already satisfied: tqdm in /usr/local/lib/python3.7/dist-packages (from nltk>=3.1->textblob) (4.64.1)\n",
            "Requirement already satisfied: regex>=2021.8.3 in /usr/local/lib/python3.7/dist-packages (from nltk>=3.1->textblob) (2022.6.2)\n",
            "Looking in indexes: https://pypi.org/simple, https://us-python.pkg.dev/colab-wheels/public/simple/\n",
            "Collecting pyspellchecker\n",
            "  Downloading pyspellchecker-0.7.0-py3-none-any.whl (2.5 MB)\n",
            "\u001b[K     |████████████████████████████████| 2.5 MB 6.6 MB/s \n",
            "\u001b[?25hInstalling collected packages: pyspellchecker\n",
            "Successfully installed pyspellchecker-0.7.0\n",
            "Looking in indexes: https://pypi.org/simple, https://us-python.pkg.dev/colab-wheels/public/simple/\n",
            "Collecting autocorrect\n",
            "  Downloading autocorrect-2.6.1.tar.gz (622 kB)\n",
            "\u001b[K     |████████████████████████████████| 622 kB 7.1 MB/s \n",
            "\u001b[?25hBuilding wheels for collected packages: autocorrect\n",
            "  Building wheel for autocorrect (setup.py) ... \u001b[?25l\u001b[?25hdone\n",
            "  Created wheel for autocorrect: filename=autocorrect-2.6.1-py3-none-any.whl size=622382 sha256=c9e2d54809bcc9548d9d0297b861e90cdcab79a84ddf9c176a4c00f2ea641b10\n",
            "  Stored in directory: /root/.cache/pip/wheels/54/d4/37/8244101ad50b0f7d9bffd93ce58ed7991ee1753b290923934b\n",
            "Successfully built autocorrect\n",
            "Installing collected packages: autocorrect\n",
            "Successfully installed autocorrect-2.6.1\n"
          ]
        }
      ],
      "source": [
        "#install required packages\n",
        "!pip install textstat\n",
        "!pip3 install wordfreq\n",
        "!pip install textblob\n",
        "!pip install pyspellchecker\n",
        "!pip install autocorrect"
      ]
    },
    {
      "cell_type": "code",
      "execution_count": 2,
      "metadata": {
        "id": "raacHBhVAgpw"
      },
      "outputs": [],
      "source": [
        "#import relevant libraries\n",
        "import textstat\n",
        "import wordfreq\n",
        "#import spacy\n",
        "import pandas as pd\n",
        "#from textstat.textstat import textstatistics,legacy_round\n",
        "from textstat.textstat import textstatistics\n",
        "import numpy as np\n",
        "import re\n",
        "from wordfreq import word_frequency\n",
        "from wordfreq import zipf_frequency\n",
        "from wordfreq import tokenize\n",
        "from wordfreq import get_frequency_dict\n",
        "from wordfreq import top_n_list\n",
        "from scipy import stats\n",
        "import matplotlib.pyplot as plt\n",
        "import scipy.stats as stat\n",
        "import pylab \n",
        "from spellchecker import SpellChecker\n",
        "from autocorrect import Speller\n",
        "\n",
        "from textblob import TextBlob\n",
        "from autocorrect import Speller\n"
      ]
    },
    {
      "cell_type": "code",
      "execution_count": 4,
      "metadata": {
        "colab": {
          "base_uri": "https://localhost:8080/"
        },
        "id": "u7uQy7R9AlNY",
        "outputId": "606466d0-88a3-48fb-e8d3-fe6a974f4608"
      },
      "outputs": [
        {
          "name": "stdout",
          "output_type": "stream",
          "text": [
            "Mounted at /content/drive\n"
          ]
        }
      ],
      "source": [
        "from google.colab import drive\n",
        "drive.mount('/content/drive')"
      ]
    },
    {
      "cell_type": "code",
      "execution_count": 5,
      "metadata": {
        "id": "72NSO8XOAqll"
      },
      "outputs": [],
      "source": [
        "#read data\n",
        "data = pd.read_excel(\"/content/drive/MyDrive/B4/Data/English_Exercises.xlsx\")\n"
      ]
    },
    {
      "cell_type": "code",
      "execution_count": 6,
      "metadata": {
        "colab": {
          "base_uri": "https://localhost:8080/",
          "height": 386
        },
        "id": "poIvUGucArT_",
        "outputId": "39fc50bd-0fd7-4906-c6f0-ff9ff44cc2ae"
      },
      "outputs": [
        {
          "data": {
            "text/html": [
              "\n",
              "  <div id=\"df-2cf6cfdc-4c5e-4ea2-9ae3-c5b62eb89c3a\">\n",
              "    <div class=\"colab-df-container\">\n",
              "      <div>\n",
              "<style scoped>\n",
              "    .dataframe tbody tr th:only-of-type {\n",
              "        vertical-align: middle;\n",
              "    }\n",
              "\n",
              "    .dataframe tbody tr th {\n",
              "        vertical-align: top;\n",
              "    }\n",
              "\n",
              "    .dataframe thead th {\n",
              "        text-align: right;\n",
              "    }\n",
              "</style>\n",
              "<table border=\"1\" class=\"dataframe\">\n",
              "  <thead>\n",
              "    <tr style=\"text-align: right;\">\n",
              "      <th></th>\n",
              "      <th>Exo_type_id</th>\n",
              "      <th>Exo_type</th>\n",
              "      <th>Exo_objective</th>\n",
              "      <th>Exo_focus</th>\n",
              "      <th>Exo_id</th>\n",
              "      <th>Source_format</th>\n",
              "      <th>Target_format</th>\n",
              "      <th>Source_sentence_id</th>\n",
              "      <th>Source_word_id</th>\n",
              "      <th>Source_lang</th>\n",
              "      <th>...</th>\n",
              "      <th>Instruction</th>\n",
              "      <th>Sentence_w_blank</th>\n",
              "      <th>Right_answer</th>\n",
              "      <th>Options</th>\n",
              "      <th>Explanation</th>\n",
              "      <th>Difficulty</th>\n",
              "      <th>Remediation</th>\n",
              "      <th>dist_1</th>\n",
              "      <th>dist_2</th>\n",
              "      <th>dist_3</th>\n",
              "    </tr>\n",
              "  </thead>\n",
              "  <tbody>\n",
              "    <tr>\n",
              "      <th>0</th>\n",
              "      <td>10</td>\n",
              "      <td>Flashcards</td>\n",
              "      <td>Learning vocabulary</td>\n",
              "      <td>NaN</td>\n",
              "      <td>1</td>\n",
              "      <td>text</td>\n",
              "      <td>text</td>\n",
              "      <td>NaN</td>\n",
              "      <td>1.0</td>\n",
              "      <td>French</td>\n",
              "      <td>...</td>\n",
              "      <td>NaN</td>\n",
              "      <td>Beauté</td>\n",
              "      <td>Beauty</td>\n",
              "      <td>NaN</td>\n",
              "      <td>NaN</td>\n",
              "      <td>NaN</td>\n",
              "      <td>NaN</td>\n",
              "      <td>NaN</td>\n",
              "      <td>NaN</td>\n",
              "      <td>NaN</td>\n",
              "    </tr>\n",
              "    <tr>\n",
              "      <th>1</th>\n",
              "      <td>10</td>\n",
              "      <td>Flashcards</td>\n",
              "      <td>Learning vocabulary</td>\n",
              "      <td>NaN</td>\n",
              "      <td>2</td>\n",
              "      <td>text</td>\n",
              "      <td>text</td>\n",
              "      <td>NaN</td>\n",
              "      <td>2.0</td>\n",
              "      <td>French</td>\n",
              "      <td>...</td>\n",
              "      <td>NaN</td>\n",
              "      <td>Verité</td>\n",
              "      <td>Truth</td>\n",
              "      <td>NaN</td>\n",
              "      <td>NaN</td>\n",
              "      <td>NaN</td>\n",
              "      <td>NaN</td>\n",
              "      <td>NaN</td>\n",
              "      <td>NaN</td>\n",
              "      <td>NaN</td>\n",
              "    </tr>\n",
              "    <tr>\n",
              "      <th>2</th>\n",
              "      <td>10</td>\n",
              "      <td>Flashcards</td>\n",
              "      <td>Learning vocabulary</td>\n",
              "      <td>NaN</td>\n",
              "      <td>3</td>\n",
              "      <td>text</td>\n",
              "      <td>text</td>\n",
              "      <td>NaN</td>\n",
              "      <td>3.0</td>\n",
              "      <td>French</td>\n",
              "      <td>...</td>\n",
              "      <td>NaN</td>\n",
              "      <td>Liberté</td>\n",
              "      <td>Freedom</td>\n",
              "      <td>NaN</td>\n",
              "      <td>NaN</td>\n",
              "      <td>NaN</td>\n",
              "      <td>NaN</td>\n",
              "      <td>NaN</td>\n",
              "      <td>NaN</td>\n",
              "      <td>NaN</td>\n",
              "    </tr>\n",
              "    <tr>\n",
              "      <th>3</th>\n",
              "      <td>10</td>\n",
              "      <td>Flashcards</td>\n",
              "      <td>Learning vocabulary</td>\n",
              "      <td>NaN</td>\n",
              "      <td>4</td>\n",
              "      <td>text</td>\n",
              "      <td>text</td>\n",
              "      <td>NaN</td>\n",
              "      <td>4.0</td>\n",
              "      <td>French</td>\n",
              "      <td>...</td>\n",
              "      <td>NaN</td>\n",
              "      <td>Fraternité</td>\n",
              "      <td>Brotherhood</td>\n",
              "      <td>NaN</td>\n",
              "      <td>NaN</td>\n",
              "      <td>NaN</td>\n",
              "      <td>NaN</td>\n",
              "      <td>NaN</td>\n",
              "      <td>NaN</td>\n",
              "      <td>NaN</td>\n",
              "    </tr>\n",
              "    <tr>\n",
              "      <th>4</th>\n",
              "      <td>10</td>\n",
              "      <td>Flashcards</td>\n",
              "      <td>Learning vocabulary</td>\n",
              "      <td>NaN</td>\n",
              "      <td>5</td>\n",
              "      <td>text</td>\n",
              "      <td>text</td>\n",
              "      <td>NaN</td>\n",
              "      <td>5.0</td>\n",
              "      <td>French</td>\n",
              "      <td>...</td>\n",
              "      <td>NaN</td>\n",
              "      <td>Bonté</td>\n",
              "      <td>Kindness</td>\n",
              "      <td>NaN</td>\n",
              "      <td>NaN</td>\n",
              "      <td>NaN</td>\n",
              "      <td>NaN</td>\n",
              "      <td>NaN</td>\n",
              "      <td>NaN</td>\n",
              "      <td>NaN</td>\n",
              "    </tr>\n",
              "  </tbody>\n",
              "</table>\n",
              "<p>5 rows × 22 columns</p>\n",
              "</div>\n",
              "      <button class=\"colab-df-convert\" onclick=\"convertToInteractive('df-2cf6cfdc-4c5e-4ea2-9ae3-c5b62eb89c3a')\"\n",
              "              title=\"Convert this dataframe to an interactive table.\"\n",
              "              style=\"display:none;\">\n",
              "        \n",
              "  <svg xmlns=\"http://www.w3.org/2000/svg\" height=\"24px\"viewBox=\"0 0 24 24\"\n",
              "       width=\"24px\">\n",
              "    <path d=\"M0 0h24v24H0V0z\" fill=\"none\"/>\n",
              "    <path d=\"M18.56 5.44l.94 2.06.94-2.06 2.06-.94-2.06-.94-.94-2.06-.94 2.06-2.06.94zm-11 1L8.5 8.5l.94-2.06 2.06-.94-2.06-.94L8.5 2.5l-.94 2.06-2.06.94zm10 10l.94 2.06.94-2.06 2.06-.94-2.06-.94-.94-2.06-.94 2.06-2.06.94z\"/><path d=\"M17.41 7.96l-1.37-1.37c-.4-.4-.92-.59-1.43-.59-.52 0-1.04.2-1.43.59L10.3 9.45l-7.72 7.72c-.78.78-.78 2.05 0 2.83L4 21.41c.39.39.9.59 1.41.59.51 0 1.02-.2 1.41-.59l7.78-7.78 2.81-2.81c.8-.78.8-2.07 0-2.86zM5.41 20L4 18.59l7.72-7.72 1.47 1.35L5.41 20z\"/>\n",
              "  </svg>\n",
              "      </button>\n",
              "      \n",
              "  <style>\n",
              "    .colab-df-container {\n",
              "      display:flex;\n",
              "      flex-wrap:wrap;\n",
              "      gap: 12px;\n",
              "    }\n",
              "\n",
              "    .colab-df-convert {\n",
              "      background-color: #E8F0FE;\n",
              "      border: none;\n",
              "      border-radius: 50%;\n",
              "      cursor: pointer;\n",
              "      display: none;\n",
              "      fill: #1967D2;\n",
              "      height: 32px;\n",
              "      padding: 0 0 0 0;\n",
              "      width: 32px;\n",
              "    }\n",
              "\n",
              "    .colab-df-convert:hover {\n",
              "      background-color: #E2EBFA;\n",
              "      box-shadow: 0px 1px 2px rgba(60, 64, 67, 0.3), 0px 1px 3px 1px rgba(60, 64, 67, 0.15);\n",
              "      fill: #174EA6;\n",
              "    }\n",
              "\n",
              "    [theme=dark] .colab-df-convert {\n",
              "      background-color: #3B4455;\n",
              "      fill: #D2E3FC;\n",
              "    }\n",
              "\n",
              "    [theme=dark] .colab-df-convert:hover {\n",
              "      background-color: #434B5C;\n",
              "      box-shadow: 0px 1px 3px 1px rgba(0, 0, 0, 0.15);\n",
              "      filter: drop-shadow(0px 1px 2px rgba(0, 0, 0, 0.3));\n",
              "      fill: #FFFFFF;\n",
              "    }\n",
              "  </style>\n",
              "\n",
              "      <script>\n",
              "        const buttonEl =\n",
              "          document.querySelector('#df-2cf6cfdc-4c5e-4ea2-9ae3-c5b62eb89c3a button.colab-df-convert');\n",
              "        buttonEl.style.display =\n",
              "          google.colab.kernel.accessAllowed ? 'block' : 'none';\n",
              "\n",
              "        async function convertToInteractive(key) {\n",
              "          const element = document.querySelector('#df-2cf6cfdc-4c5e-4ea2-9ae3-c5b62eb89c3a');\n",
              "          const dataTable =\n",
              "            await google.colab.kernel.invokeFunction('convertToInteractive',\n",
              "                                                     [key], {});\n",
              "          if (!dataTable) return;\n",
              "\n",
              "          const docLinkHtml = 'Like what you see? Visit the ' +\n",
              "            '<a target=\"_blank\" href=https://colab.research.google.com/notebooks/data_table.ipynb>data table notebook</a>'\n",
              "            + ' to learn more about interactive tables.';\n",
              "          element.innerHTML = '';\n",
              "          dataTable['output_type'] = 'display_data';\n",
              "          await google.colab.output.renderOutput(dataTable, element);\n",
              "          const docLink = document.createElement('div');\n",
              "          docLink.innerHTML = docLinkHtml;\n",
              "          element.appendChild(docLink);\n",
              "        }\n",
              "      </script>\n",
              "    </div>\n",
              "  </div>\n",
              "  "
            ],
            "text/plain": [
              "   Exo_type_id    Exo_type        Exo_objective Exo_focus  Exo_id  \\\n",
              "0           10  Flashcards  Learning vocabulary       NaN       1   \n",
              "1           10  Flashcards  Learning vocabulary       NaN       2   \n",
              "2           10  Flashcards  Learning vocabulary       NaN       3   \n",
              "3           10  Flashcards  Learning vocabulary       NaN       4   \n",
              "4           10  Flashcards  Learning vocabulary       NaN       5   \n",
              "\n",
              "  Source_format Target_format  Source_sentence_id  Source_word_id Source_lang  \\\n",
              "0          text          text                 NaN             1.0      French   \n",
              "1          text          text                 NaN             2.0      French   \n",
              "2          text          text                 NaN             3.0      French   \n",
              "3          text          text                 NaN             4.0      French   \n",
              "4          text          text                 NaN             5.0      French   \n",
              "\n",
              "   ... Instruction Sentence_w_blank Right_answer Options Explanation  \\\n",
              "0  ...         NaN           Beauté       Beauty     NaN         NaN   \n",
              "1  ...         NaN           Verité        Truth     NaN         NaN   \n",
              "2  ...         NaN          Liberté      Freedom     NaN         NaN   \n",
              "3  ...         NaN       Fraternité  Brotherhood     NaN         NaN   \n",
              "4  ...         NaN            Bonté     Kindness     NaN         NaN   \n",
              "\n",
              "  Difficulty  Remediation  dist_1  dist_2  dist_3  \n",
              "0        NaN          NaN     NaN     NaN     NaN  \n",
              "1        NaN          NaN     NaN     NaN     NaN  \n",
              "2        NaN          NaN     NaN     NaN     NaN  \n",
              "3        NaN          NaN     NaN     NaN     NaN  \n",
              "4        NaN          NaN     NaN     NaN     NaN  \n",
              "\n",
              "[5 rows x 22 columns]"
            ]
          },
          "execution_count": 6,
          "metadata": {},
          "output_type": "execute_result"
        }
      ],
      "source": [
        "data.head()"
      ]
    },
    {
      "cell_type": "code",
      "execution_count": 7,
      "metadata": {
        "id": "4yskhSf5A4ty"
      },
      "outputs": [],
      "source": [
        "#Spellchecker using pyspellchecker\n",
        "#After little test using pyspellchecker, textblob and autocorrect, pyspellchecker performs better\n",
        "\n",
        "spell = SpellChecker()\n",
        "def correct_spelling(text):\n",
        "    corrected_text = list()\n",
        "    misspelled_words = spell.unknown(tokenize(text,'en'))\n",
        "    for word in text.split():\n",
        "        next_word = word\n",
        "\n",
        "        if word in misspelled_words:\n",
        "            next_word = spell.correction(word)\n",
        "      \n",
        "        if next_word is not None :\n",
        "          corrected_text.append(next_word)\n",
        "        else:\n",
        "          corrected_text.append(word)\n",
        "        \n",
        "  \n",
        "    return \" \".join(corrected_text)"
      ]
    },
    {
      "cell_type": "code",
      "execution_count": 9,
      "metadata": {
        "id": "cURQcSFBBA_b"
      },
      "outputs": [],
      "source": [
        "#second package which performs well is autocorrect\n",
        "#we pass the code through 2 spellcheckers to create an idea of an \"ensemble\"\n",
        "speller = Speller(lang='en')\n",
        "\n",
        "def autocorrect_speller(text):\n",
        "  return speller(text)"
      ]
    },
    {
      "cell_type": "code",
      "execution_count": 10,
      "metadata": {
        "colab": {
          "base_uri": "https://localhost:8080/",
          "height": 36
        },
        "id": "7y2pikHRBQwW",
        "outputId": "0c4b9884-55ef-4b54-8c5e-56c7bf21ffb7"
      },
      "outputs": [
        {
          "data": {
            "application/vnd.google.colaboratory.intrinsic+json": {
              "type": "string"
            },
            "text/plain": [
              "'I really need some corection. This sentence has misspelled words'"
            ]
          },
          "execution_count": 10,
          "metadata": {},
          "output_type": "execute_result"
        }
      ],
      "source": [
        "#example pyspellchecker\n",
        "text_misspelled = \"I realli needt smoe corection. This sentnce has mispelled wirds\"\n",
        "correct_spelling(text_misspelled)\n"
      ]
    },
    {
      "cell_type": "code",
      "execution_count": 11,
      "metadata": {
        "colab": {
          "base_uri": "https://localhost:8080/",
          "height": 36
        },
        "id": "vZvoQ7VABXn7",
        "outputId": "a0ed9802-5259-453b-b63b-cb19d7dda036"
      },
      "outputs": [
        {
          "data": {
            "application/vnd.google.colaboratory.intrinsic+json": {
              "type": "string"
            },
            "text/plain": [
              "'I really need some correction. This sentence has misspelled words'"
            ]
          },
          "execution_count": 11,
          "metadata": {},
          "output_type": "execute_result"
        }
      ],
      "source": [
        "#still some errors, so pass another spellchecker\n",
        "corrected_1 = correct_spelling(text_misspelled)\n",
        "autocorrect_speller(corrected_1)"
      ]
    },
    {
      "cell_type": "code",
      "execution_count": 12,
      "metadata": {
        "colab": {
          "base_uri": "https://localhost:8080/"
        },
        "id": "RaJJR1QyBkxu",
        "outputId": "5bec689f-c48f-408c-967f-d950c01b2cd7"
      },
      "outputs": [
        {
          "data": {
            "text/plain": [
              "array(['Learning vocabulary', nan, 'Grammar', 'Verb_Conjugation'],\n",
              "      dtype=object)"
            ]
          },
          "execution_count": 12,
          "metadata": {},
          "output_type": "execute_result"
        }
      ],
      "source": [
        "data[\"Exo_objective\"].unique()"
      ]
    },
    {
      "cell_type": "code",
      "execution_count": 13,
      "metadata": {
        "id": "sy_GzM45BoTJ"
      },
      "outputs": [],
      "source": [
        "#select non na sentences\n",
        "df = data[data['Full_sentence'].notna()]\n",
        "\n"
      ]
    },
    {
      "cell_type": "code",
      "execution_count": 14,
      "metadata": {
        "id": "DfJ8dTnLBqbi"
      },
      "outputs": [],
      "source": [
        "#subset exo objective for vocabularis\n",
        "df_vocab = df[df[\"Exo_objective\"]==\"Learning vocabulary\"]"
      ]
    },
    {
      "cell_type": "code",
      "execution_count": 15,
      "metadata": {
        "colab": {
          "base_uri": "https://localhost:8080/"
        },
        "id": "juyV5vbmBrz9",
        "outputId": "e36829ee-5c2f-4278-c9db-fc7aeab1c4bb"
      },
      "outputs": [
        {
          "name": "stderr",
          "output_type": "stream",
          "text": [
            "/usr/local/lib/python3.7/dist-packages/ipykernel_launcher.py:2: SettingWithCopyWarning: \n",
            "A value is trying to be set on a copy of a slice from a DataFrame.\n",
            "Try using .loc[row_indexer,col_indexer] = value instead\n",
            "\n",
            "See the caveats in the documentation: https://pandas.pydata.org/pandas-docs/stable/user_guide/indexing.html#returning-a-view-versus-a-copy\n",
            "  \n",
            "/usr/local/lib/python3.7/dist-packages/ipykernel_launcher.py:3: SettingWithCopyWarning: \n",
            "A value is trying to be set on a copy of a slice from a DataFrame.\n",
            "Try using .loc[row_indexer,col_indexer] = value instead\n",
            "\n",
            "See the caveats in the documentation: https://pandas.pydata.org/pandas-docs/stable/user_guide/indexing.html#returning-a-view-versus-a-copy\n",
            "  This is separate from the ipykernel package so we can avoid doing imports until\n"
          ]
        }
      ],
      "source": [
        "#spellchecks for vocabularies\n",
        "df_vocab[\"Right_answer\"]=df_vocab[\"Right_answer\"].apply(lambda x:correct_spelling(x))\n",
        "df_vocab[\"Right_answer\"]=df_vocab[\"Right_answer\"].apply(lambda x:autocorrect_speller(x))"
      ]
    },
    {
      "cell_type": "code",
      "execution_count": 17,
      "metadata": {
        "id": "SkFEBYgXByPg"
      },
      "outputs": [],
      "source": [
        "#subset exo objective for grammar\n",
        "df_gram = df[df[\"Exo_objective\"]==\"Grammar\"]"
      ]
    },
    {
      "cell_type": "code",
      "execution_count": 18,
      "metadata": {
        "id": "9g9k29oNB5P2"
      },
      "outputs": [],
      "source": [
        "\n",
        "def fill_blank(blank_sentence):\n",
        "    \"\"\"\n",
        "    Replace ... with contents from brackets i.e answer\n",
        "    Remove content inside parentheses\n",
        "    Remove parentheses\n",
        "\n",
        "    \"\"\"\n",
        "    answer = blank_sentence[blank_sentence.find(\"(\")+1:blank_sentence.find(\")\")]\n",
        "\n",
        "    return re.sub(\"\\(.*?\\)\",\"()\", blank_sentence.replace(\"...\", answer)).replace('(','').replace(')','')"
      ]
    },
    {
      "cell_type": "code",
      "execution_count": 19,
      "metadata": {
        "colab": {
          "base_uri": "https://localhost:8080/"
        },
        "id": "Aqc9DBIoB8FG",
        "outputId": "1c562d5b-0864-4dbe-807e-569c77b760fb"
      },
      "outputs": [
        {
          "name": "stderr",
          "output_type": "stream",
          "text": [
            "/usr/local/lib/python3.7/dist-packages/ipykernel_launcher.py:2: SettingWithCopyWarning: \n",
            "A value is trying to be set on a copy of a slice from a DataFrame.\n",
            "Try using .loc[row_indexer,col_indexer] = value instead\n",
            "\n",
            "See the caveats in the documentation: https://pandas.pydata.org/pandas-docs/stable/user_guide/indexing.html#returning-a-view-versus-a-copy\n",
            "  \n"
          ]
        }
      ],
      "source": [
        "#fill sentences when there are blanks \n",
        "df_gram[\"Full_sent2\"] = df_gram[\"Sentence_w_blank\"].apply(lambda x:fill_blank(x))"
      ]
    },
    {
      "cell_type": "code",
      "execution_count": 20,
      "metadata": {
        "colab": {
          "base_uri": "https://localhost:8080/"
        },
        "id": "_AkGEKIeB8Ud",
        "outputId": "d15896b0-bc03-43cc-be38-7603719477e1"
      },
      "outputs": [
        {
          "name": "stderr",
          "output_type": "stream",
          "text": [
            "/usr/local/lib/python3.7/dist-packages/ipykernel_launcher.py:2: SettingWithCopyWarning: \n",
            "A value is trying to be set on a copy of a slice from a DataFrame.\n",
            "Try using .loc[row_indexer,col_indexer] = value instead\n",
            "\n",
            "See the caveats in the documentation: https://pandas.pydata.org/pandas-docs/stable/user_guide/indexing.html#returning-a-view-versus-a-copy\n",
            "  \n",
            "/usr/local/lib/python3.7/dist-packages/ipykernel_launcher.py:3: SettingWithCopyWarning: \n",
            "A value is trying to be set on a copy of a slice from a DataFrame.\n",
            "Try using .loc[row_indexer,col_indexer] = value instead\n",
            "\n",
            "See the caveats in the documentation: https://pandas.pydata.org/pandas-docs/stable/user_guide/indexing.html#returning-a-view-versus-a-copy\n",
            "  This is separate from the ipykernel package so we can avoid doing imports until\n"
          ]
        }
      ],
      "source": [
        "#spellchecks for grammar\n",
        "df_gram[\"Full_sent2\"] = df_gram[\"Full_sent2\"].apply(lambda x:correct_spelling(x))\n",
        "df_gram[\"Full_sent2\"] = df_gram[\"Full_sent2\"].apply(lambda x:autocorrect_speller(x))"
      ]
    },
    {
      "cell_type": "code",
      "execution_count": 21,
      "metadata": {
        "id": "fb9NDQzqtn_B"
      },
      "outputs": [],
      "source": [
        "#subset nan type exos\n",
        "df_nan = df[df['Exo_objective'].isna()]\n"
      ]
    },
    {
      "cell_type": "code",
      "execution_count": 22,
      "metadata": {
        "id": "tgcHxL5Ptw-2"
      },
      "outputs": [],
      "source": [
        "#select non NaNs\n",
        "df_nan = df_nan[df_nan[\"Right_answer\"].notna()]"
      ]
    },
    {
      "cell_type": "code",
      "execution_count": 23,
      "metadata": {
        "id": "Zjpa_KVWdFJm"
      },
      "outputs": [],
      "source": [
        "#spellcheck\n",
        "df_nan[\"Right_answer\"] = df_nan[\"Right_answer\"].apply(lambda x:correct_spelling(x))\n",
        "df_nan[\"Right_answer\"] = df_nan[\"Right_answer\"].apply(lambda x:autocorrect_speller(x))"
      ]
    },
    {
      "cell_type": "code",
      "execution_count": 24,
      "metadata": {
        "id": "773VOVCct0Ut"
      },
      "outputs": [],
      "source": [
        "#subset dataset where verb conjugation is objective\n",
        "df_verb = df[df[\"Exo_objective\"]=='Verb_Conjugation']"
      ]
    },
    {
      "cell_type": "code",
      "execution_count": 25,
      "metadata": {
        "colab": {
          "base_uri": "https://localhost:8080/"
        },
        "id": "z8VGeWhrt8C-",
        "outputId": "cf7b1e5c-a529-4709-fbae-5284b64ae199"
      },
      "outputs": [
        {
          "name": "stderr",
          "output_type": "stream",
          "text": [
            "/usr/local/lib/python3.7/dist-packages/ipykernel_launcher.py:2: SettingWithCopyWarning: \n",
            "A value is trying to be set on a copy of a slice from a DataFrame.\n",
            "Try using .loc[row_indexer,col_indexer] = value instead\n",
            "\n",
            "See the caveats in the documentation: https://pandas.pydata.org/pandas-docs/stable/user_guide/indexing.html#returning-a-view-versus-a-copy\n",
            "  \n"
          ]
        }
      ],
      "source": [
        "#pre-process data like grammar\n",
        "df_verb[\"Full_sent2\"] = df_verb[\"Sentence_w_blank\"].apply(lambda x:fill_blank(x))"
      ]
    },
    {
      "cell_type": "code",
      "execution_count": 26,
      "metadata": {
        "colab": {
          "base_uri": "https://localhost:8080/"
        },
        "id": "Bz_zrIyAuAXK",
        "outputId": "d39a85dd-ab46-46ec-ccea-84112614c004"
      },
      "outputs": [
        {
          "name": "stderr",
          "output_type": "stream",
          "text": [
            "/usr/local/lib/python3.7/dist-packages/ipykernel_launcher.py:2: SettingWithCopyWarning: \n",
            "A value is trying to be set on a copy of a slice from a DataFrame.\n",
            "Try using .loc[row_indexer,col_indexer] = value instead\n",
            "\n",
            "See the caveats in the documentation: https://pandas.pydata.org/pandas-docs/stable/user_guide/indexing.html#returning-a-view-versus-a-copy\n",
            "  \n",
            "/usr/local/lib/python3.7/dist-packages/ipykernel_launcher.py:3: SettingWithCopyWarning: \n",
            "A value is trying to be set on a copy of a slice from a DataFrame.\n",
            "Try using .loc[row_indexer,col_indexer] = value instead\n",
            "\n",
            "See the caveats in the documentation: https://pandas.pydata.org/pandas-docs/stable/user_guide/indexing.html#returning-a-view-versus-a-copy\n",
            "  This is separate from the ipykernel package so we can avoid doing imports until\n"
          ]
        }
      ],
      "source": [
        "#spell check \n",
        "df_verb[\"Full_sent2\"] = df_verb[\"Full_sent2\"].apply(lambda x:correct_spelling(x))\n",
        "df_verb[\"Full_sent2\"] = df_verb[\"Full_sent2\"].apply(lambda x:autocorrect_speller(x))"
      ]
    },
    {
      "cell_type": "markdown",
      "metadata": {
        "id": "Mvn5YmfmuIXz"
      },
      "source": [
        "NEW STRATEGY :\n",
        "The score is calculated as a multiplication of length of the word\n",
        "and the number of occurrences in the text. In this approach the most di\u000ecult\n",
        "word (the lowest score) is a combination of being long and occur least times. If\n",
        "two words have similar frequency score, the longer one will now become more\n",
        "di\u000ecult. In all cases the score is calculated as relative within the available text."
      ]
    },
    {
      "cell_type": "markdown",
      "metadata": {
        "id": "H8cDmYeauJ4c"
      },
      "source": [
        "![image.png](data:image/png;base64,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)\n",
        "\n",
        "Source : https://www.researchgate.net/publication/322996917_Assessing_Word_Difficulty_for_Quiz-Like_Game"
      ]
    },
    {
      "cell_type": "markdown",
      "metadata": {
        "id": "5aoZUz_wuI9b"
      },
      "source": [
        "Adjustments :\n"
      ]
    },
    {
      "cell_type": "markdown",
      "metadata": {
        "id": "bKsFO1OjG4CK"
      },
      "source": [
        "- Usage of `zipf_frequency` from `word_freq` library instead of number of occurences which allows to skip the reading of bulky corpuses and have a standardized scale\n",
        "- Change in the score formula:\n",
        "> s = (lw/lmax) * (8 - zipf)\n",
        "\n"
      ]
    },
    {
      "cell_type": "markdown",
      "metadata": {
        "id": "sscKHBaTHu_e"
      },
      "source": [
        "### Obtain a list of tokens\n"
      ]
    },
    {
      "cell_type": "code",
      "execution_count": 28,
      "metadata": {
        "id": "jVOn0ThrvzdL"
      },
      "outputs": [],
      "source": [
        "#create a dataframe for tokens\n",
        "df_tokens =pd.DataFrame()"
      ]
    },
    {
      "cell_type": "code",
      "execution_count": 27,
      "metadata": {
        "id": "ddlPOVlIv9n0"
      },
      "outputs": [],
      "source": [
        "#create function to add to token list\n",
        "token_list = []\n",
        "def tokenize_wordfreq(x):\n",
        "    \n",
        "    token_list.extend(tokenize(x,'en'))\n",
        "    return tokenize(x,'en')"
      ]
    },
    {
      "cell_type": "code",
      "execution_count": 29,
      "metadata": {
        "id": "bU4zra9RvGc9"
      },
      "outputs": [],
      "source": [
        "#get tokens from all dfs\n",
        "df_tokens[\"unigrams\"] = df_vocab[\"Right_answer\"].apply(tokenize_wordfreq)\n",
        "df_tokens[\"unigrams\"] = df_gram[\"Full_sent2\"].apply(tokenize_wordfreq)\n",
        "df_tokens[\"unigrams\"] = df_verb[\"Full_sent2\"].apply(tokenize_wordfreq)\n",
        "df_tokens[\"unigrams\"] = df_nan[\"Right_answer\"].apply(tokenize_wordfreq)\n"
      ]
    },
    {
      "cell_type": "code",
      "execution_count": 30,
      "metadata": {
        "id": "ZAHF2_GH0p35"
      },
      "outputs": [],
      "source": [
        "#get unique list of tokens \n",
        "token_list = list(set(token_list))"
      ]
    },
    {
      "cell_type": "markdown",
      "metadata": {
        "id": "6zsOO5kvJYb0"
      },
      "source": [
        " ### Calculation of word difficulty"
      ]
    },
    {
      "cell_type": "code",
      "execution_count": 31,
      "metadata": {
        "colab": {
          "base_uri": "https://localhost:8080/",
          "height": 36
        },
        "id": "cpvc9sOi0szI",
        "outputId": "f67bdb9e-21c7-443c-beb5-db4dddf2bc96"
      },
      "outputs": [
        {
          "data": {
            "application/vnd.google.colaboratory.intrinsic+json": {
              "type": "string"
            },
            "text/plain": [
              "'gastroenterologist'"
            ]
          },
          "execution_count": 31,
          "metadata": {},
          "output_type": "execute_result"
        }
      ],
      "source": [
        "#find longest word in token list\n",
        "max(token_list, key=len)"
      ]
    },
    {
      "cell_type": "code",
      "execution_count": 32,
      "metadata": {
        "id": "HRxjFVGy1aDN"
      },
      "outputs": [],
      "source": [
        "#store length of word\n",
        "lmax = len(max(token_list, key=len))"
      ]
    },
    {
      "cell_type": "code",
      "execution_count": 33,
      "metadata": {
        "colab": {
          "base_uri": "https://localhost:8080/"
        },
        "id": "7btAaTabIfUT",
        "outputId": "fd223f6a-0411-4876-d8b1-21c29b4a5470"
      },
      "outputs": [
        {
          "data": {
            "text/plain": [
              "['the']"
            ]
          },
          "execution_count": 33,
          "metadata": {},
          "output_type": "execute_result"
        }
      ],
      "source": [
        "#word with highest zipf from word_freq\n",
        "top_n_list('en', 1, wordlist='best')"
      ]
    },
    {
      "cell_type": "code",
      "execution_count": 34,
      "metadata": {
        "colab": {
          "base_uri": "https://localhost:8080/"
        },
        "id": "zvPZa8O2IkYE",
        "outputId": "b09871f9-319c-416d-af94-290c539d08e0"
      },
      "outputs": [
        {
          "data": {
            "text/plain": [
              "7.73"
            ]
          },
          "execution_count": 34,
          "metadata": {},
          "output_type": "execute_result"
        }
      ],
      "source": [
        "zipf_frequency('the','en')"
      ]
    },
    {
      "cell_type": "code",
      "execution_count": 35,
      "metadata": {
        "id": "XKoO-mqUIqLr"
      },
      "outputs": [],
      "source": [
        "#store highest zipf\n",
        "omax = zipf_frequency('the','en')"
      ]
    },
    {
      "cell_type": "code",
      "execution_count": 36,
      "metadata": {
        "id": "qWaJCbUXIvh0"
      },
      "outputs": [],
      "source": [
        "#create new df to find difficulty of each word\n",
        "data ={\"word\":token_list}\n",
        "df_word_diff = pd.DataFrame(data)"
      ]
    },
    {
      "cell_type": "code",
      "execution_count": 39,
      "metadata": {
        "id": "yifN1NMdIw6M"
      },
      "outputs": [],
      "source": [
        "\n",
        "def find_word_difficulty(word):\n",
        "    lmax = len(max(token_list, key=len))\n",
        "    length_word = len(word)\n",
        "    zipf_word = zipf_frequency(word,'en')\n",
        "    relative_length = length_word/lmax\n",
        "    relative_freq = (8- zipf_word)\n",
        "    score = relative_length * relative_freq\n",
        "    return pd.Series([length_word, zipf_word,score])"
      ]
    },
    {
      "cell_type": "code",
      "execution_count": 40,
      "metadata": {
        "id": "qvek5YKUI8pH"
      },
      "outputs": [],
      "source": [
        "#calculate difficulty of each word\n",
        "df_word_diff[['length','zipf_freq','score']] = df_word_diff['word'].apply(find_word_difficulty)\n"
      ]
    },
    {
      "cell_type": "code",
      "execution_count": 41,
      "metadata": {
        "id": "P2S5xFk7JJKq"
      },
      "outputs": [],
      "source": [
        "#sort dataframe by ascending order\n",
        "#higher score means harder word and vice versa\n",
        "df_word_diff.sort_values(by='score',ascending=True,inplace=True,ignore_index=True)\n"
      ]
    },
    {
      "cell_type": "code",
      "execution_count": 44,
      "metadata": {
        "colab": {
          "base_uri": "https://localhost:8080/",
          "height": 424
        },
        "id": "21boIgg4Jcrz",
        "outputId": "d14291b7-0a65-4fa5-99bd-5e8101883e74"
      },
      "outputs": [
        {
          "data": {
            "text/html": [
              "\n",
              "  <div id=\"df-d85ad648-2fe9-4555-9c61-0da024cc434e\">\n",
              "    <div class=\"colab-df-container\">\n",
              "      <div>\n",
              "<style scoped>\n",
              "    .dataframe tbody tr th:only-of-type {\n",
              "        vertical-align: middle;\n",
              "    }\n",
              "\n",
              "    .dataframe tbody tr th {\n",
              "        vertical-align: top;\n",
              "    }\n",
              "\n",
              "    .dataframe thead th {\n",
              "        text-align: right;\n",
              "    }\n",
              "</style>\n",
              "<table border=\"1\" class=\"dataframe\">\n",
              "  <thead>\n",
              "    <tr style=\"text-align: right;\">\n",
              "      <th></th>\n",
              "      <th>word</th>\n",
              "      <th>length</th>\n",
              "      <th>zipf_freq</th>\n",
              "      <th>score</th>\n",
              "    </tr>\n",
              "  </thead>\n",
              "  <tbody>\n",
              "    <tr>\n",
              "      <th>0</th>\n",
              "      <td>a</td>\n",
              "      <td>1.0</td>\n",
              "      <td>7.36</td>\n",
              "      <td>0.035556</td>\n",
              "    </tr>\n",
              "    <tr>\n",
              "      <th>1</th>\n",
              "      <td>the</td>\n",
              "      <td>3.0</td>\n",
              "      <td>7.73</td>\n",
              "      <td>0.045000</td>\n",
              "    </tr>\n",
              "    <tr>\n",
              "      <th>2</th>\n",
              "      <td>i</td>\n",
              "      <td>1.0</td>\n",
              "      <td>7.09</td>\n",
              "      <td>0.050556</td>\n",
              "    </tr>\n",
              "    <tr>\n",
              "      <th>3</th>\n",
              "      <td>to</td>\n",
              "      <td>2.0</td>\n",
              "      <td>7.43</td>\n",
              "      <td>0.063333</td>\n",
              "    </tr>\n",
              "    <tr>\n",
              "      <th>4</th>\n",
              "      <td>of</td>\n",
              "      <td>2.0</td>\n",
              "      <td>7.40</td>\n",
              "      <td>0.066667</td>\n",
              "    </tr>\n",
              "    <tr>\n",
              "      <th>...</th>\n",
              "      <td>...</td>\n",
              "      <td>...</td>\n",
              "      <td>...</td>\n",
              "      <td>...</td>\n",
              "    </tr>\n",
              "    <tr>\n",
              "      <th>8028</th>\n",
              "      <td>spectrophotometer</td>\n",
              "      <td>17.0</td>\n",
              "      <td>2.05</td>\n",
              "      <td>5.619444</td>\n",
              "    </tr>\n",
              "    <tr>\n",
              "      <th>8029</th>\n",
              "      <td>hypermetropic</td>\n",
              "      <td>13.0</td>\n",
              "      <td>0.00</td>\n",
              "      <td>5.777778</td>\n",
              "    </tr>\n",
              "    <tr>\n",
              "      <th>8030</th>\n",
              "      <td>gastroenterologist</td>\n",
              "      <td>18.0</td>\n",
              "      <td>2.22</td>\n",
              "      <td>5.780000</td>\n",
              "    </tr>\n",
              "    <tr>\n",
              "      <th>8031</th>\n",
              "      <td>clandestineness</td>\n",
              "      <td>15.0</td>\n",
              "      <td>0.00</td>\n",
              "      <td>6.666667</td>\n",
              "    </tr>\n",
              "    <tr>\n",
              "      <th>8032</th>\n",
              "      <td>reproductibility</td>\n",
              "      <td>16.0</td>\n",
              "      <td>0.00</td>\n",
              "      <td>7.111111</td>\n",
              "    </tr>\n",
              "  </tbody>\n",
              "</table>\n",
              "<p>8033 rows × 4 columns</p>\n",
              "</div>\n",
              "      <button class=\"colab-df-convert\" onclick=\"convertToInteractive('df-d85ad648-2fe9-4555-9c61-0da024cc434e')\"\n",
              "              title=\"Convert this dataframe to an interactive table.\"\n",
              "              style=\"display:none;\">\n",
              "        \n",
              "  <svg xmlns=\"http://www.w3.org/2000/svg\" height=\"24px\"viewBox=\"0 0 24 24\"\n",
              "       width=\"24px\">\n",
              "    <path d=\"M0 0h24v24H0V0z\" fill=\"none\"/>\n",
              "    <path d=\"M18.56 5.44l.94 2.06.94-2.06 2.06-.94-2.06-.94-.94-2.06-.94 2.06-2.06.94zm-11 1L8.5 8.5l.94-2.06 2.06-.94-2.06-.94L8.5 2.5l-.94 2.06-2.06.94zm10 10l.94 2.06.94-2.06 2.06-.94-2.06-.94-.94-2.06-.94 2.06-2.06.94z\"/><path d=\"M17.41 7.96l-1.37-1.37c-.4-.4-.92-.59-1.43-.59-.52 0-1.04.2-1.43.59L10.3 9.45l-7.72 7.72c-.78.78-.78 2.05 0 2.83L4 21.41c.39.39.9.59 1.41.59.51 0 1.02-.2 1.41-.59l7.78-7.78 2.81-2.81c.8-.78.8-2.07 0-2.86zM5.41 20L4 18.59l7.72-7.72 1.47 1.35L5.41 20z\"/>\n",
              "  </svg>\n",
              "      </button>\n",
              "      \n",
              "  <style>\n",
              "    .colab-df-container {\n",
              "      display:flex;\n",
              "      flex-wrap:wrap;\n",
              "      gap: 12px;\n",
              "    }\n",
              "\n",
              "    .colab-df-convert {\n",
              "      background-color: #E8F0FE;\n",
              "      border: none;\n",
              "      border-radius: 50%;\n",
              "      cursor: pointer;\n",
              "      display: none;\n",
              "      fill: #1967D2;\n",
              "      height: 32px;\n",
              "      padding: 0 0 0 0;\n",
              "      width: 32px;\n",
              "    }\n",
              "\n",
              "    .colab-df-convert:hover {\n",
              "      background-color: #E2EBFA;\n",
              "      box-shadow: 0px 1px 2px rgba(60, 64, 67, 0.3), 0px 1px 3px 1px rgba(60, 64, 67, 0.15);\n",
              "      fill: #174EA6;\n",
              "    }\n",
              "\n",
              "    [theme=dark] .colab-df-convert {\n",
              "      background-color: #3B4455;\n",
              "      fill: #D2E3FC;\n",
              "    }\n",
              "\n",
              "    [theme=dark] .colab-df-convert:hover {\n",
              "      background-color: #434B5C;\n",
              "      box-shadow: 0px 1px 3px 1px rgba(0, 0, 0, 0.15);\n",
              "      filter: drop-shadow(0px 1px 2px rgba(0, 0, 0, 0.3));\n",
              "      fill: #FFFFFF;\n",
              "    }\n",
              "  </style>\n",
              "\n",
              "      <script>\n",
              "        const buttonEl =\n",
              "          document.querySelector('#df-d85ad648-2fe9-4555-9c61-0da024cc434e button.colab-df-convert');\n",
              "        buttonEl.style.display =\n",
              "          google.colab.kernel.accessAllowed ? 'block' : 'none';\n",
              "\n",
              "        async function convertToInteractive(key) {\n",
              "          const element = document.querySelector('#df-d85ad648-2fe9-4555-9c61-0da024cc434e');\n",
              "          const dataTable =\n",
              "            await google.colab.kernel.invokeFunction('convertToInteractive',\n",
              "                                                     [key], {});\n",
              "          if (!dataTable) return;\n",
              "\n",
              "          const docLinkHtml = 'Like what you see? Visit the ' +\n",
              "            '<a target=\"_blank\" href=https://colab.research.google.com/notebooks/data_table.ipynb>data table notebook</a>'\n",
              "            + ' to learn more about interactive tables.';\n",
              "          element.innerHTML = '';\n",
              "          dataTable['output_type'] = 'display_data';\n",
              "          await google.colab.output.renderOutput(dataTable, element);\n",
              "          const docLink = document.createElement('div');\n",
              "          docLink.innerHTML = docLinkHtml;\n",
              "          element.appendChild(docLink);\n",
              "        }\n",
              "      </script>\n",
              "    </div>\n",
              "  </div>\n",
              "  "
            ],
            "text/plain": [
              "                    word  length  zipf_freq     score\n",
              "0                      a     1.0       7.36  0.035556\n",
              "1                    the     3.0       7.73  0.045000\n",
              "2                      i     1.0       7.09  0.050556\n",
              "3                     to     2.0       7.43  0.063333\n",
              "4                     of     2.0       7.40  0.066667\n",
              "...                  ...     ...        ...       ...\n",
              "8028   spectrophotometer    17.0       2.05  5.619444\n",
              "8029       hypermetropic    13.0       0.00  5.777778\n",
              "8030  gastroenterologist    18.0       2.22  5.780000\n",
              "8031     clandestineness    15.0       0.00  6.666667\n",
              "8032    reproductibility    16.0       0.00  7.111111\n",
              "\n",
              "[8033 rows x 4 columns]"
            ]
          },
          "execution_count": 44,
          "metadata": {},
          "output_type": "execute_result"
        }
      ],
      "source": [
        "df_word_diff"
      ]
    },
    {
      "cell_type": "markdown",
      "metadata": {
        "id": "C3FjfFrpJj1Q"
      },
      "source": [
        "### Transformation of word difficulty score into Gaussian"
      ]
    },
    {
      "cell_type": "code",
      "execution_count": 45,
      "metadata": {
        "colab": {
          "base_uri": "https://localhost:8080/",
          "height": 316
        },
        "id": "qwm5TBRcJPFe",
        "outputId": "c60a7be4-bd1c-4fef-fee9-ed3437717b20"
      },
      "outputs": [
        {
          "data": {
            "text/plain": [
              "array([[<matplotlib.axes._subplots.AxesSubplot object at 0x7f195073a1d0>]],\n",
              "      dtype=object)"
            ]
          },
          "execution_count": 45,
          "metadata": {},
          "output_type": "execute_result"
        },
        {
          "data": {
            "image/png": "[encoded data removed]",
            "text/plain": [
              "<Figure size 432x288 with 1 Axes>"
            ]
          },
          "metadata": {
            "needs_background": "light"
          },
          "output_type": "display_data"
        }
      ],
      "source": [
        "df_word_diff.hist(column='score')\n"
      ]
    },
    {
      "cell_type": "code",
      "execution_count": 46,
      "metadata": {
        "id": "ZYxEFiNMJTlE"
      },
      "outputs": [],
      "source": [
        "#### If you want to check whether feature is gaussian or normal distributed\n",
        "#### Q-Q plot\n",
        "def plot_data(df,feature):\n",
        "    plt.figure(figsize=(10,6))\n",
        "    plt.subplot(1,2,1)\n",
        "    df[feature].hist()\n",
        "    plt.subplot(1,2,2)\n",
        "    stat.probplot(df[feature],dist='norm',plot=pylab)\n",
        "    plt.show()\n",
        "    "
      ]
    },
    {
      "cell_type": "code",
      "execution_count": 47,
      "metadata": {
        "colab": {
          "base_uri": "https://localhost:8080/",
          "height": 404
        },
        "id": "R7lkSTqdJqIX",
        "outputId": "5e13d600-3f0c-4023-f390-cf91a1d8be72"
      },
      "outputs": [
        {
          "data": {
            "image/png": "[encoded data removed]",
            "text/plain": [
              "<Figure size 720x432 with 2 Axes>"
            ]
          },
          "metadata": {
            "needs_background": "light"
          },
          "output_type": "display_data"
        }
      ],
      "source": [
        "##### Square Root Transformation\n",
        "df_word_diff['sqrt_score']=df_word_diff.score**(1/2)\n",
        "plot_data(df_word_diff,'sqrt_score')"
      ]
    },
    {
      "cell_type": "code",
      "execution_count": 48,
      "metadata": {
        "colab": {
          "base_uri": "https://localhost:8080/",
          "height": 404
        },
        "id": "FZ-Gx3bqJrUr",
        "outputId": "fbfbdd75-baa8-4a76-8a41-7a5b8ddff73f"
      },
      "outputs": [
        {
          "data": {
            "image/png": "[encoded data removed]",
            "text/plain": [
              "<Figure size 720x432 with 2 Axes>"
            ]
          },
          "metadata": {
            "needs_background": "light"
          },
          "output_type": "display_data"
        }
      ],
      "source": [
        "#### Exponential Transformation\n",
        "df_word_diff['expo_score']=df_word_diff.score**(1/1.2)\n",
        "\n",
        "plot_data(df_word_diff,'expo_score')"
      ]
    },
    {
      "cell_type": "code",
      "execution_count": 49,
      "metadata": {
        "colab": {
          "base_uri": "https://localhost:8080/",
          "height": 404
        },
        "id": "U7Dnq0TrJunx",
        "outputId": "a20cc1ea-6259-4910-810d-9dd4a0ce3f95"
      },
      "outputs": [
        {
          "data": {
            "image/png": "[encoded data removed]",
            "text/plain": [
              "<Figure size 720x432 with 2 Axes>"
            ]
          },
          "metadata": {
            "needs_background": "light"
          },
          "output_type": "display_data"
        }
      ],
      "source": [
        "#### Boxcox Transformation\n",
        "df_word_diff['box_score'],parameters=stat.boxcox(df_word_diff['score'])\n",
        "plot_data(df_word_diff,'box_score')\n"
      ]
    },
    {
      "cell_type": "markdown",
      "metadata": {
        "id": "m0TqmDUdJ5JU"
      },
      "source": [
        "### Separating difficulties into quantiles"
      ]
    },
    {
      "cell_type": "code",
      "execution_count": 51,
      "metadata": {
        "id": "ona22oseJ0pC"
      },
      "outputs": [],
      "source": [
        "#separate into 32 quantiles because of 2^n rule of thumb for n = 5 (5 levels)\n",
        "number_of_quantile = 32\n",
        "#We get the quantiles from 0 to the defined number where 0 is for the lowest quantile of y_proba\n",
        "# edges represents the boundaries due that we specified retbins=True \n",
        "df_word_diff['quantile'], edges = pd.qcut(x=df_word_diff['box_score'], q=number_of_quantile, labels=False, retbins=True)"
      ]
    },
    {
      "cell_type": "code",
      "execution_count": 52,
      "metadata": {
        "colab": {
          "base_uri": "https://localhost:8080/",
          "height": 206
        },
        "id": "WSVwdhZCKIR7",
        "outputId": "2cfc7516-9238-4e5d-94c2-e706b5e04a49"
      },
      "outputs": [
        {
          "data": {
            "text/html": [
              "\n",
              "  <div id=\"df-d7206c07-73af-4d1e-9b22-28ce2286ba6c\">\n",
              "    <div class=\"colab-df-container\">\n",
              "      <div>\n",
              "<style scoped>\n",
              "    .dataframe tbody tr th:only-of-type {\n",
              "        vertical-align: middle;\n",
              "    }\n",
              "\n",
              "    .dataframe tbody tr th {\n",
              "        vertical-align: top;\n",
              "    }\n",
              "\n",
              "    .dataframe thead th {\n",
              "        text-align: right;\n",
              "    }\n",
              "</style>\n",
              "<table border=\"1\" class=\"dataframe\">\n",
              "  <thead>\n",
              "    <tr style=\"text-align: right;\">\n",
              "      <th></th>\n",
              "      <th>word</th>\n",
              "      <th>length</th>\n",
              "      <th>zipf_freq</th>\n",
              "      <th>score</th>\n",
              "      <th>sqrt_score</th>\n",
              "      <th>expo_score</th>\n",
              "      <th>box_score</th>\n",
              "      <th>quantile</th>\n",
              "    </tr>\n",
              "  </thead>\n",
              "  <tbody>\n",
              "    <tr>\n",
              "      <th>0</th>\n",
              "      <td>a</td>\n",
              "      <td>1.0</td>\n",
              "      <td>7.36</td>\n",
              "      <td>0.035556</td>\n",
              "      <td>0.188562</td>\n",
              "      <td>0.062004</td>\n",
              "      <td>-1.842079</td>\n",
              "      <td>0</td>\n",
              "    </tr>\n",
              "    <tr>\n",
              "      <th>1</th>\n",
              "      <td>the</td>\n",
              "      <td>3.0</td>\n",
              "      <td>7.73</td>\n",
              "      <td>0.045000</td>\n",
              "      <td>0.212132</td>\n",
              "      <td>0.075453</td>\n",
              "      <td>-1.777034</td>\n",
              "      <td>0</td>\n",
              "    </tr>\n",
              "    <tr>\n",
              "      <th>2</th>\n",
              "      <td>i</td>\n",
              "      <td>1.0</td>\n",
              "      <td>7.09</td>\n",
              "      <td>0.050556</td>\n",
              "      <td>0.224846</td>\n",
              "      <td>0.083139</td>\n",
              "      <td>-1.742557</td>\n",
              "      <td>0</td>\n",
              "    </tr>\n",
              "    <tr>\n",
              "      <th>3</th>\n",
              "      <td>to</td>\n",
              "      <td>2.0</td>\n",
              "      <td>7.43</td>\n",
              "      <td>0.063333</td>\n",
              "      <td>0.251661</td>\n",
              "      <td>0.100314</td>\n",
              "      <td>-1.671080</td>\n",
              "      <td>0</td>\n",
              "    </tr>\n",
              "    <tr>\n",
              "      <th>4</th>\n",
              "      <td>of</td>\n",
              "      <td>2.0</td>\n",
              "      <td>7.40</td>\n",
              "      <td>0.066667</td>\n",
              "      <td>0.258199</td>\n",
              "      <td>0.104695</td>\n",
              "      <td>-1.653890</td>\n",
              "      <td>0</td>\n",
              "    </tr>\n",
              "  </tbody>\n",
              "</table>\n",
              "</div>\n",
              "      <button class=\"colab-df-convert\" onclick=\"convertToInteractive('df-d7206c07-73af-4d1e-9b22-28ce2286ba6c')\"\n",
              "              title=\"Convert this dataframe to an interactive table.\"\n",
              "              style=\"display:none;\">\n",
              "        \n",
              "  <svg xmlns=\"http://www.w3.org/2000/svg\" height=\"24px\"viewBox=\"0 0 24 24\"\n",
              "       width=\"24px\">\n",
              "    <path d=\"M0 0h24v24H0V0z\" fill=\"none\"/>\n",
              "    <path d=\"M18.56 5.44l.94 2.06.94-2.06 2.06-.94-2.06-.94-.94-2.06-.94 2.06-2.06.94zm-11 1L8.5 8.5l.94-2.06 2.06-.94-2.06-.94L8.5 2.5l-.94 2.06-2.06.94zm10 10l.94 2.06.94-2.06 2.06-.94-2.06-.94-.94-2.06-.94 2.06-2.06.94z\"/><path d=\"M17.41 7.96l-1.37-1.37c-.4-.4-.92-.59-1.43-.59-.52 0-1.04.2-1.43.59L10.3 9.45l-7.72 7.72c-.78.78-.78 2.05 0 2.83L4 21.41c.39.39.9.59 1.41.59.51 0 1.02-.2 1.41-.59l7.78-7.78 2.81-2.81c.8-.78.8-2.07 0-2.86zM5.41 20L4 18.59l7.72-7.72 1.47 1.35L5.41 20z\"/>\n",
              "  </svg>\n",
              "      </button>\n",
              "      \n",
              "  <style>\n",
              "    .colab-df-container {\n",
              "      display:flex;\n",
              "      flex-wrap:wrap;\n",
              "      gap: 12px;\n",
              "    }\n",
              "\n",
              "    .colab-df-convert {\n",
              "      background-color: #E8F0FE;\n",
              "      border: none;\n",
              "      border-radius: 50%;\n",
              "      cursor: pointer;\n",
              "      display: none;\n",
              "      fill: #1967D2;\n",
              "      height: 32px;\n",
              "      padding: 0 0 0 0;\n",
              "      width: 32px;\n",
              "    }\n",
              "\n",
              "    .colab-df-convert:hover {\n",
              "      background-color: #E2EBFA;\n",
              "      box-shadow: 0px 1px 2px rgba(60, 64, 67, 0.3), 0px 1px 3px 1px rgba(60, 64, 67, 0.15);\n",
              "      fill: #174EA6;\n",
              "    }\n",
              "\n",
              "    [theme=dark] .colab-df-convert {\n",
              "      background-color: #3B4455;\n",
              "      fill: #D2E3FC;\n",
              "    }\n",
              "\n",
              "    [theme=dark] .colab-df-convert:hover {\n",
              "      background-color: #434B5C;\n",
              "      box-shadow: 0px 1px 3px 1px rgba(0, 0, 0, 0.15);\n",
              "      filter: drop-shadow(0px 1px 2px rgba(0, 0, 0, 0.3));\n",
              "      fill: #FFFFFF;\n",
              "    }\n",
              "  </style>\n",
              "\n",
              "      <script>\n",
              "        const buttonEl =\n",
              "          document.querySelector('#df-d7206c07-73af-4d1e-9b22-28ce2286ba6c button.colab-df-convert');\n",
              "        buttonEl.style.display =\n",
              "          google.colab.kernel.accessAllowed ? 'block' : 'none';\n",
              "\n",
              "        async function convertToInteractive(key) {\n",
              "          const element = document.querySelector('#df-d7206c07-73af-4d1e-9b22-28ce2286ba6c');\n",
              "          const dataTable =\n",
              "            await google.colab.kernel.invokeFunction('convertToInteractive',\n",
              "                                                     [key], {});\n",
              "          if (!dataTable) return;\n",
              "\n",
              "          const docLinkHtml = 'Like what you see? Visit the ' +\n",
              "            '<a target=\"_blank\" href=https://colab.research.google.com/notebooks/data_table.ipynb>data table notebook</a>'\n",
              "            + ' to learn more about interactive tables.';\n",
              "          element.innerHTML = '';\n",
              "          dataTable['output_type'] = 'display_data';\n",
              "          await google.colab.output.renderOutput(dataTable, element);\n",
              "          const docLink = document.createElement('div');\n",
              "          docLink.innerHTML = docLinkHtml;\n",
              "          element.appendChild(docLink);\n",
              "        }\n",
              "      </script>\n",
              "    </div>\n",
              "  </div>\n",
              "  "
            ],
            "text/plain": [
              "  word  length  zipf_freq     score  sqrt_score  expo_score  box_score  \\\n",
              "0    a     1.0       7.36  0.035556    0.188562    0.062004  -1.842079   \n",
              "1  the     3.0       7.73  0.045000    0.212132    0.075453  -1.777034   \n",
              "2    i     1.0       7.09  0.050556    0.224846    0.083139  -1.742557   \n",
              "3   to     2.0       7.43  0.063333    0.251661    0.100314  -1.671080   \n",
              "4   of     2.0       7.40  0.066667    0.258199    0.104695  -1.653890   \n",
              "\n",
              "   quantile  \n",
              "0         0  \n",
              "1         0  \n",
              "2         0  \n",
              "3         0  \n",
              "4         0  "
            ]
          },
          "execution_count": 52,
          "metadata": {},
          "output_type": "execute_result"
        }
      ],
      "source": [
        "df_word_diff.head()"
      ]
    },
    {
      "cell_type": "code",
      "execution_count": null,
      "metadata": {
        "id": "ToFwRZTIKcsk"
      },
      "outputs": [],
      "source": []
    },
    {
      "cell_type": "code",
      "execution_count": 54,
      "metadata": {
        "id": "npdqJnjZlT3S"
      },
      "outputs": [],
      "source": [
        "df_word_diff[\"level\"] = np.nan"
      ]
    },
    {
      "cell_type": "code",
      "execution_count": 55,
      "metadata": {
        "colab": {
          "base_uri": "https://localhost:8080/"
        },
        "id": "PYYCvew2lIb8",
        "outputId": "b57a6cda-a8c9-40d4-dded-0f7118a0146b"
      },
      "outputs": [
        {
          "name": "stderr",
          "output_type": "stream",
          "text": [
            "/usr/local/lib/python3.7/dist-packages/ipykernel_launcher.py:3: SettingWithCopyWarning: \n",
            "A value is trying to be set on a copy of a slice from a DataFrame\n",
            "\n",
            "See the caveats in the documentation: https://pandas.pydata.org/pandas-docs/stable/user_guide/indexing.html#returning-a-view-versus-a-copy\n",
            "  This is separate from the ipykernel package so we can avoid doing imports until\n",
            "/usr/local/lib/python3.7/dist-packages/pandas/core/indexing.py:1732: SettingWithCopyWarning: \n",
            "A value is trying to be set on a copy of a slice from a DataFrame\n",
            "\n",
            "See the caveats in the documentation: https://pandas.pydata.org/pandas-docs/stable/user_guide/indexing.html#returning-a-view-versus-a-copy\n",
            "  self._setitem_single_block(indexer, value, name)\n"
          ]
        }
      ],
      "source": [
        "for i in df_word_diff.index:\n",
        "    if df_word_diff['quantile'][i] <=1:\n",
        "        df_word_diff['level'][i] = 'A1'\n",
        "    if df_word_diff['quantile'][i] >1 and df_word_diff['quantile'][i] <=3:\n",
        "        df_word_diff['level'][i] = 'A2'\n",
        "    if df_word_diff['quantile'][i] >3 and df_word_diff['quantile'][i] <=7:\n",
        "        df_word_diff['level'][i] = 'B1'\n",
        "    if df_word_diff['quantile'][i] >7and df_word_diff['quantile'][i] <=15:\n",
        "        df_word_diff['level'][i] = 'B2'\n",
        "    if df_word_diff['quantile'][i] > 15 :\n",
        "        df_word_diff['level'][i] = 'C1'"
      ]
    },
    {
      "cell_type": "markdown",
      "metadata": {
        "id": "EaRBabaZKQBc"
      },
      "source": [
        "### Calculate sentence difficulty score\n",
        "\n",
        ">   Sentence = number of words in sentence(sentence length) * average of word difficulty in sentence * rarest word in sentence\n"
      ]
    },
    {
      "cell_type": "code",
      "execution_count": 53,
      "metadata": {
        "id": "HXH2JbbkKVNn"
      },
      "outputs": [],
      "source": [
        "def avg_sentence_length( text: str) -> float:\n",
        "      \"\"\"Calculate the average sentence length.\n",
        "      This function is a combination of the functions `lexicon_count` and\n",
        "      `sentence_count`.\n",
        "      Parameters\n",
        "      ----------\n",
        "      text : str\n",
        "          A text string.\n",
        "      Returns\n",
        "      -------\n",
        "      float\n",
        "          The average sentence length.\n",
        "      \"\"\"\n",
        "      try:\n",
        "          asl = float(textstat.lexicon_count(text) / textstat.sentence_count(text))\n",
        "          return np.round(asl, 1)\n",
        "      except ZeroDivisionError:\n",
        "          return 0.0"
      ]
    },
    {
      "cell_type": "code",
      "execution_count": 61,
      "metadata": {
        "id": "Z4Pk6gtKKY-n"
      },
      "outputs": [],
      "source": [
        "def find_wLengthMax(text):\n",
        "  \n",
        "  \"\"\"\n",
        "  Find the longest word in the sentence\n",
        "  \"\"\"\n",
        "  word_list = list(set(re.findall(r\"[\\w\\='‘’]+\", text.lower())))\n",
        "  longest_word =  len(max(word_list, key=len))\n",
        "  return longest_word\n",
        "  "
      ]
    },
    {
      "cell_type": "code",
      "execution_count": 62,
      "metadata": {
        "id": "BkhXpzXbKjp2"
      },
      "outputs": [],
      "source": [
        "def find_wSRarest(text):\n",
        "    \n",
        "  \"\"\"\n",
        "  Find the rarest word in the sentence but since rarest words have lower zipf and we want rarest words to have more difficulty weight we do:\n",
        "  8 - zipf\n",
        "  \"\"\"\n",
        "  word_freq = []\n",
        "\n",
        "  word_list = list(set(re.findall(r\"[\\w\\='‘’]+\", text.lower())))\n",
        "  for word in word_list:\n",
        "    word_freq.append(zipf_frequency(word,'en'))\n",
        "  if len(word_freq) != 0:\n",
        "    wSRarest = 8 - min(word_freq)\n",
        "  else:\n",
        "    wSRarest = 8 - 0\n",
        "  return wSRarest"
      ]
    },
    {
      "cell_type": "code",
      "execution_count": 63,
      "metadata": {
        "id": "By9rTN0xKv0k"
      },
      "outputs": [],
      "source": [
        "#list of all words in the dataset having a difficulty\n",
        "df_word_diff_list = df_word_diff[\"word\"].unique()"
      ]
    },
    {
      "cell_type": "code",
      "execution_count": 66,
      "metadata": {
        "id": "IDEiMWv8KkEt"
      },
      "outputs": [],
      "source": [
        "def find_wSavg(text):\n",
        "  \"\"\"\n",
        "  Find the average difficulty of the words in a sentence\n",
        "  \"\"\"\n",
        "  avg_word_diff = []\n",
        "  word_list = list(set(re.findall(r\"[\\w\\='‘’]+\", text.lower())))\n",
        "  for word in word_list:\n",
        "    if word in df_word_diff_list:\n",
        "      avg_word_diff.append(df_word_diff[df_word_diff[\"word\"]==word][\"score\"].values[0])\n",
        "  wSavg = np.mean(avg_word_diff)\n",
        "  return wSavg\n"
      ]
    },
    {
      "cell_type": "code",
      "execution_count": 67,
      "metadata": {
        "id": "2Tk0tyW6Kmn1"
      },
      "outputs": [],
      "source": [
        "def find_SScore(text):\n",
        "    \n",
        "  \"\"\"\n",
        "  Calculate the sentence difficulty score\n",
        "  \"\"\"\n",
        "  sscore = avg_sentence_length(text) * find_wSavg(text) * find_wSRarest(text)\n",
        "  return sscore"
      ]
    },
    {
      "cell_type": "code",
      "execution_count": 68,
      "metadata": {
        "colab": {
          "base_uri": "https://localhost:8080/"
        },
        "id": "EYUHf4vjKn-c",
        "outputId": "3a8b2a8e-d23c-4ba4-a429-30e2f210dae4"
      },
      "outputs": [
        {
          "name": "stderr",
          "output_type": "stream",
          "text": [
            "/usr/local/lib/python3.7/dist-packages/ipykernel_launcher.py:2: SettingWithCopyWarning: \n",
            "A value is trying to be set on a copy of a slice from a DataFrame.\n",
            "Try using .loc[row_indexer,col_indexer] = value instead\n",
            "\n",
            "See the caveats in the documentation: https://pandas.pydata.org/pandas-docs/stable/user_guide/indexing.html#returning-a-view-versus-a-copy\n",
            "  \n",
            "/usr/local/lib/python3.7/dist-packages/ipykernel_launcher.py:3: SettingWithCopyWarning: \n",
            "A value is trying to be set on a copy of a slice from a DataFrame.\n",
            "Try using .loc[row_indexer,col_indexer] = value instead\n",
            "\n",
            "See the caveats in the documentation: https://pandas.pydata.org/pandas-docs/stable/user_guide/indexing.html#returning-a-view-versus-a-copy\n",
            "  This is separate from the ipykernel package so we can avoid doing imports until\n",
            "/usr/local/lib/python3.7/dist-packages/numpy/core/fromnumeric.py:3441: RuntimeWarning: Mean of empty slice.\n",
            "  out=out, **kwargs)\n",
            "/usr/local/lib/python3.7/dist-packages/ipykernel_launcher.py:5: SettingWithCopyWarning: \n",
            "A value is trying to be set on a copy of a slice from a DataFrame.\n",
            "Try using .loc[row_indexer,col_indexer] = value instead\n",
            "\n",
            "See the caveats in the documentation: https://pandas.pydata.org/pandas-docs/stable/user_guide/indexing.html#returning-a-view-versus-a-copy\n",
            "  \"\"\"\n"
          ]
        }
      ],
      "source": [
        "#calculate difficulty\n",
        "df_vocab[\"Difficulty\"] = df_vocab[\"Right_answer\"].apply(lambda x:find_SScore(x))\n",
        "df_gram[\"Difficulty\"] = df_gram[\"Full_sent2\"].apply(lambda x:find_SScore(x))\n",
        "df_nan[\"Difficulty\"] = df_nan[\"Right_answer\"].apply(lambda x:find_SScore(x))\n",
        "df_verb[\"Difficulty\"] = df_verb[\"Full_sent2\"].apply(lambda x:find_SScore(x))\n"
      ]
    },
    {
      "cell_type": "code",
      "execution_count": 72,
      "metadata": {
        "id": "DmZuEu2wLyGu"
      },
      "outputs": [],
      "source": [
        "# #drop column of complete sentence to ensure data format \n",
        "df_verb = df_verb.drop(columns=['Full_sent2'])\n",
        "df_gram = df_gram.drop(columns=['Full_sent2'])\n"
      ]
    },
    {
      "cell_type": "code",
      "execution_count": 69,
      "metadata": {
        "id": "rWG6_Z1tL4Wu"
      },
      "outputs": [],
      "source": [
        "#stack all datasets together\n",
        "final_df = pd.concat([df_vocab,df_gram,df_nan, df_verb], ignore_index=True, axis=0)\n",
        "\n"
      ]
    },
    {
      "cell_type": "code",
      "execution_count": 73,
      "metadata": {
        "colab": {
          "base_uri": "https://localhost:8080/",
          "height": 386
        },
        "id": "grfGfh45MmVp",
        "outputId": "efbc4451-b506-40b4-f8f8-5288f0191771"
      },
      "outputs": [
        {
          "data": {
            "text/html": [
              "\n",
              "  <div id=\"df-e23066e1-a75f-4ab1-9102-8cf098f25914\">\n",
              "    <div class=\"colab-df-container\">\n",
              "      <div>\n",
              "<style scoped>\n",
              "    .dataframe tbody tr th:only-of-type {\n",
              "        vertical-align: middle;\n",
              "    }\n",
              "\n",
              "    .dataframe tbody tr th {\n",
              "        vertical-align: top;\n",
              "    }\n",
              "\n",
              "    .dataframe thead th {\n",
              "        text-align: right;\n",
              "    }\n",
              "</style>\n",
              "<table border=\"1\" class=\"dataframe\">\n",
              "  <thead>\n",
              "    <tr style=\"text-align: right;\">\n",
              "      <th></th>\n",
              "      <th>Exo_type_id</th>\n",
              "      <th>Exo_type</th>\n",
              "      <th>Exo_objective</th>\n",
              "      <th>Exo_focus</th>\n",
              "      <th>Exo_id</th>\n",
              "      <th>Source_format</th>\n",
              "      <th>Target_format</th>\n",
              "      <th>Source_sentence_id</th>\n",
              "      <th>Source_word_id</th>\n",
              "      <th>Source_lang</th>\n",
              "      <th>...</th>\n",
              "      <th>Sentence_w_blank</th>\n",
              "      <th>Right_answer</th>\n",
              "      <th>Options</th>\n",
              "      <th>Explanation</th>\n",
              "      <th>Difficulty</th>\n",
              "      <th>Remediation</th>\n",
              "      <th>dist_1</th>\n",
              "      <th>dist_2</th>\n",
              "      <th>dist_3</th>\n",
              "      <th>Full_sent2</th>\n",
              "    </tr>\n",
              "  </thead>\n",
              "  <tbody>\n",
              "    <tr>\n",
              "      <th>0</th>\n",
              "      <td>10</td>\n",
              "      <td>Flashcards</td>\n",
              "      <td>Learning vocabulary</td>\n",
              "      <td>NaN</td>\n",
              "      <td>1</td>\n",
              "      <td>text</td>\n",
              "      <td>text</td>\n",
              "      <td>NaN</td>\n",
              "      <td>1.0</td>\n",
              "      <td>French</td>\n",
              "      <td>...</td>\n",
              "      <td>Beauté</td>\n",
              "      <td>Beauty</td>\n",
              "      <td>NaN</td>\n",
              "      <td>NaN</td>\n",
              "      <td>3.520833</td>\n",
              "      <td>NaN</td>\n",
              "      <td>NaN</td>\n",
              "      <td>NaN</td>\n",
              "      <td>NaN</td>\n",
              "      <td>NaN</td>\n",
              "    </tr>\n",
              "    <tr>\n",
              "      <th>1</th>\n",
              "      <td>10</td>\n",
              "      <td>Flashcards</td>\n",
              "      <td>Learning vocabulary</td>\n",
              "      <td>NaN</td>\n",
              "      <td>2</td>\n",
              "      <td>text</td>\n",
              "      <td>text</td>\n",
              "      <td>NaN</td>\n",
              "      <td>2.0</td>\n",
              "      <td>French</td>\n",
              "      <td>...</td>\n",
              "      <td>Verité</td>\n",
              "      <td>Truth</td>\n",
              "      <td>NaN</td>\n",
              "      <td>NaN</td>\n",
              "      <td>2.417361</td>\n",
              "      <td>NaN</td>\n",
              "      <td>NaN</td>\n",
              "      <td>NaN</td>\n",
              "      <td>NaN</td>\n",
              "      <td>NaN</td>\n",
              "    </tr>\n",
              "    <tr>\n",
              "      <th>2</th>\n",
              "      <td>10</td>\n",
              "      <td>Flashcards</td>\n",
              "      <td>Learning vocabulary</td>\n",
              "      <td>NaN</td>\n",
              "      <td>3</td>\n",
              "      <td>text</td>\n",
              "      <td>text</td>\n",
              "      <td>NaN</td>\n",
              "      <td>3.0</td>\n",
              "      <td>French</td>\n",
              "      <td>...</td>\n",
              "      <td>Liberté</td>\n",
              "      <td>Freedom</td>\n",
              "      <td>NaN</td>\n",
              "      <td>NaN</td>\n",
              "      <td>3.834289</td>\n",
              "      <td>NaN</td>\n",
              "      <td>NaN</td>\n",
              "      <td>NaN</td>\n",
              "      <td>NaN</td>\n",
              "      <td>NaN</td>\n",
              "    </tr>\n",
              "    <tr>\n",
              "      <th>3</th>\n",
              "      <td>10</td>\n",
              "      <td>Flashcards</td>\n",
              "      <td>Learning vocabulary</td>\n",
              "      <td>NaN</td>\n",
              "      <td>4</td>\n",
              "      <td>text</td>\n",
              "      <td>text</td>\n",
              "      <td>NaN</td>\n",
              "      <td>4.0</td>\n",
              "      <td>French</td>\n",
              "      <td>...</td>\n",
              "      <td>Fraternité</td>\n",
              "      <td>Brotherhood</td>\n",
              "      <td>NaN</td>\n",
              "      <td>NaN</td>\n",
              "      <td>10.524861</td>\n",
              "      <td>NaN</td>\n",
              "      <td>NaN</td>\n",
              "      <td>NaN</td>\n",
              "      <td>NaN</td>\n",
              "      <td>NaN</td>\n",
              "    </tr>\n",
              "    <tr>\n",
              "      <th>4</th>\n",
              "      <td>10</td>\n",
              "      <td>Flashcards</td>\n",
              "      <td>Learning vocabulary</td>\n",
              "      <td>NaN</td>\n",
              "      <td>5</td>\n",
              "      <td>text</td>\n",
              "      <td>text</td>\n",
              "      <td>NaN</td>\n",
              "      <td>5.0</td>\n",
              "      <td>French</td>\n",
              "      <td>...</td>\n",
              "      <td>Bonté</td>\n",
              "      <td>Kindness</td>\n",
              "      <td>NaN</td>\n",
              "      <td>NaN</td>\n",
              "      <td>7.111111</td>\n",
              "      <td>NaN</td>\n",
              "      <td>NaN</td>\n",
              "      <td>NaN</td>\n",
              "      <td>NaN</td>\n",
              "      <td>NaN</td>\n",
              "    </tr>\n",
              "  </tbody>\n",
              "</table>\n",
              "<p>5 rows × 23 columns</p>\n",
              "</div>\n",
              "      <button class=\"colab-df-convert\" onclick=\"convertToInteractive('df-e23066e1-a75f-4ab1-9102-8cf098f25914')\"\n",
              "              title=\"Convert this dataframe to an interactive table.\"\n",
              "              style=\"display:none;\">\n",
              "        \n",
              "  <svg xmlns=\"http://www.w3.org/2000/svg\" height=\"24px\"viewBox=\"0 0 24 24\"\n",
              "       width=\"24px\">\n",
              "    <path d=\"M0 0h24v24H0V0z\" fill=\"none\"/>\n",
              "    <path d=\"M18.56 5.44l.94 2.06.94-2.06 2.06-.94-2.06-.94-.94-2.06-.94 2.06-2.06.94zm-11 1L8.5 8.5l.94-2.06 2.06-.94-2.06-.94L8.5 2.5l-.94 2.06-2.06.94zm10 10l.94 2.06.94-2.06 2.06-.94-2.06-.94-.94-2.06-.94 2.06-2.06.94z\"/><path d=\"M17.41 7.96l-1.37-1.37c-.4-.4-.92-.59-1.43-.59-.52 0-1.04.2-1.43.59L10.3 9.45l-7.72 7.72c-.78.78-.78 2.05 0 2.83L4 21.41c.39.39.9.59 1.41.59.51 0 1.02-.2 1.41-.59l7.78-7.78 2.81-2.81c.8-.78.8-2.07 0-2.86zM5.41 20L4 18.59l7.72-7.72 1.47 1.35L5.41 20z\"/>\n",
              "  </svg>\n",
              "      </button>\n",
              "      \n",
              "  <style>\n",
              "    .colab-df-container {\n",
              "      display:flex;\n",
              "      flex-wrap:wrap;\n",
              "      gap: 12px;\n",
              "    }\n",
              "\n",
              "    .colab-df-convert {\n",
              "      background-color: #E8F0FE;\n",
              "      border: none;\n",
              "      border-radius: 50%;\n",
              "      cursor: pointer;\n",
              "      display: none;\n",
              "      fill: #1967D2;\n",
              "      height: 32px;\n",
              "      padding: 0 0 0 0;\n",
              "      width: 32px;\n",
              "    }\n",
              "\n",
              "    .colab-df-convert:hover {\n",
              "      background-color: #E2EBFA;\n",
              "      box-shadow: 0px 1px 2px rgba(60, 64, 67, 0.3), 0px 1px 3px 1px rgba(60, 64, 67, 0.15);\n",
              "      fill: #174EA6;\n",
              "    }\n",
              "\n",
              "    [theme=dark] .colab-df-convert {\n",
              "      background-color: #3B4455;\n",
              "      fill: #D2E3FC;\n",
              "    }\n",
              "\n",
              "    [theme=dark] .colab-df-convert:hover {\n",
              "      background-color: #434B5C;\n",
              "      box-shadow: 0px 1px 3px 1px rgba(0, 0, 0, 0.15);\n",
              "      filter: drop-shadow(0px 1px 2px rgba(0, 0, 0, 0.3));\n",
              "      fill: #FFFFFF;\n",
              "    }\n",
              "  </style>\n",
              "\n",
              "      <script>\n",
              "        const buttonEl =\n",
              "          document.querySelector('#df-e23066e1-a75f-4ab1-9102-8cf098f25914 button.colab-df-convert');\n",
              "        buttonEl.style.display =\n",
              "          google.colab.kernel.accessAllowed ? 'block' : 'none';\n",
              "\n",
              "        async function convertToInteractive(key) {\n",
              "          const element = document.querySelector('#df-e23066e1-a75f-4ab1-9102-8cf098f25914');\n",
              "          const dataTable =\n",
              "            await google.colab.kernel.invokeFunction('convertToInteractive',\n",
              "                                                     [key], {});\n",
              "          if (!dataTable) return;\n",
              "\n",
              "          const docLinkHtml = 'Like what you see? Visit the ' +\n",
              "            '<a target=\"_blank\" href=https://colab.research.google.com/notebooks/data_table.ipynb>data table notebook</a>'\n",
              "            + ' to learn more about interactive tables.';\n",
              "          element.innerHTML = '';\n",
              "          dataTable['output_type'] = 'display_data';\n",
              "          await google.colab.output.renderOutput(dataTable, element);\n",
              "          const docLink = document.createElement('div');\n",
              "          docLink.innerHTML = docLinkHtml;\n",
              "          element.appendChild(docLink);\n",
              "        }\n",
              "      </script>\n",
              "    </div>\n",
              "  </div>\n",
              "  "
            ],
            "text/plain": [
              "   Exo_type_id    Exo_type        Exo_objective Exo_focus  Exo_id  \\\n",
              "0           10  Flashcards  Learning vocabulary       NaN       1   \n",
              "1           10  Flashcards  Learning vocabulary       NaN       2   \n",
              "2           10  Flashcards  Learning vocabulary       NaN       3   \n",
              "3           10  Flashcards  Learning vocabulary       NaN       4   \n",
              "4           10  Flashcards  Learning vocabulary       NaN       5   \n",
              "\n",
              "  Source_format Target_format  Source_sentence_id  Source_word_id Source_lang  \\\n",
              "0          text          text                 NaN             1.0      French   \n",
              "1          text          text                 NaN             2.0      French   \n",
              "2          text          text                 NaN             3.0      French   \n",
              "3          text          text                 NaN             4.0      French   \n",
              "4          text          text                 NaN             5.0      French   \n",
              "\n",
              "   ... Sentence_w_blank Right_answer Options Explanation Difficulty  \\\n",
              "0  ...           Beauté       Beauty     NaN         NaN   3.520833   \n",
              "1  ...           Verité        Truth     NaN         NaN   2.417361   \n",
              "2  ...          Liberté      Freedom     NaN         NaN   3.834289   \n",
              "3  ...       Fraternité  Brotherhood     NaN         NaN  10.524861   \n",
              "4  ...            Bonté     Kindness     NaN         NaN   7.111111   \n",
              "\n",
              "  Remediation  dist_1  dist_2  dist_3  Full_sent2  \n",
              "0         NaN     NaN     NaN     NaN         NaN  \n",
              "1         NaN     NaN     NaN     NaN         NaN  \n",
              "2         NaN     NaN     NaN     NaN         NaN  \n",
              "3         NaN     NaN     NaN     NaN         NaN  \n",
              "4         NaN     NaN     NaN     NaN         NaN  \n",
              "\n",
              "[5 rows x 23 columns]"
            ]
          },
          "execution_count": 73,
          "metadata": {},
          "output_type": "execute_result"
        }
      ],
      "source": [
        "final_df.head()"
      ]
    },
    {
      "cell_type": "markdown",
      "metadata": {
        "id": "rnCl0hpmMCcC"
      },
      "source": [
        "### Find sentence levels based on its difficulty (A1 - C1) - To be done"
      ]
    },
    {
      "cell_type": "code",
      "execution_count": 74,
      "metadata": {
        "colab": {
          "base_uri": "https://localhost:8080/",
          "height": 404
        },
        "id": "2QA1RxiyL-Hh",
        "outputId": "6bff411e-6c32-40b9-88fa-cf1e4d06666c"
      },
      "outputs": [
        {
          "data": {
            "image/png": "[encoded data removed]",
            "text/plain": [
              "<Figure size 720x432 with 2 Axes>"
            ]
          },
          "metadata": {
            "needs_background": "light"
          },
          "output_type": "display_data"
        }
      ],
      "source": [
        "plot_data(final_df,\"Difficulty\")"
      ]
    },
    {
      "cell_type": "markdown",
      "metadata": {
        "id": "CivHuCrhMSsR"
      },
      "source": [
        "### Export final dataset to csv"
      ]
    },
    {
      "cell_type": "code",
      "execution_count": null,
      "metadata": {
        "id": "FPAqApgNMW_h"
      },
      "outputs": [],
      "source": [
        "final_df.to_csv(\"/content/drive/MyDrive/B4/Data/English_Exercises_diff.csv\",index=False)"
      ]
    }
  ],
  "metadata": {
    "colab": {
      "provenance": []
    },
    "kernelspec": {
      "display_name": "Python 3.10.6 ('year_4')",
      "language": "python",
      "name": "python3"
    },
    "language_info": {
      "name": "python",
      "version": "3.10.6"
    },
    "vscode": {
      "interpreter": {
        "hash": "2dbc6a3e06803adbf086ce64bb7fe7554f6a053388168c89795f9a02e75d57e3"
      }
    }
  },
  "nbformat": 4,
  "nbformat_minor": 0
}
