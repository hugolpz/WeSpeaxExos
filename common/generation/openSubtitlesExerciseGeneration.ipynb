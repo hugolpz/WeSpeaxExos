{
 "cells": [
  {
   "cell_type": "code",
   "execution_count": 5,
   "metadata": {},
   "outputs": [],
   "source": [
    "import pandas as pd\n",
    "from translate.storage.tmx import tmxfile\n",
    "import warnings\n",
    "warnings.filterwarnings('ignore')"
   ]
  },
  {
   "cell_type": "code",
   "execution_count": 3,
   "metadata": {},
   "outputs": [],
   "source": [
    "# Data available at https://opus.nlpl.eu/OpenSubtitles-v2018.php\n",
    "# https://opus.nlpl.eu/download.php?f=OpenSubtitles/v2018/tmx/en-pt.tmx.gz\n",
    "with open(\"../../data/en-pt.tmx\", 'rb') as fin:\n",
    "    tmx_file = tmxfile(fin, 'en', 'pt')"
   ]
  },
  {
   "cell_type": "code",
   "execution_count": null,
   "metadata": {},
   "outputs": [],
   "source": [
    "# put tmx file into a pandas dataframe\n",
    "df = pd.DataFrame(columns=['source', 'target'])\n",
    "for unit in tmx_file.units:\n",
    "    df = df.append({'source': unit.source, 'target': unit.target}, ignore_index=True)\n",
    "df"
   ]
  },
  {
   "cell_type": "code",
   "execution_count": 8,
   "metadata": {},
   "outputs": [
    {
     "data": {
      "text/html": [
       "<div>\n",
       "<style scoped>\n",
       "    .dataframe tbody tr th:only-of-type {\n",
       "        vertical-align: middle;\n",
       "    }\n",
       "\n",
       "    .dataframe tbody tr th {\n",
       "        vertical-align: top;\n",
       "    }\n",
       "\n",
       "    .dataframe thead th {\n",
       "        text-align: right;\n",
       "    }\n",
       "</style>\n",
       "<table border=\"1\" class=\"dataframe\">\n",
       "  <thead>\n",
       "    <tr style=\"text-align: right;\">\n",
       "      <th></th>\n",
       "      <th>source</th>\n",
       "      <th>target</th>\n",
       "    </tr>\n",
       "  </thead>\n",
       "  <tbody>\n",
       "    <tr>\n",
       "      <th>0</th>\n",
       "      <td>Pyke to plumber command.</td>\n",
       "      <td>Pyke para o Comando dos Encanadores.</td>\n",
       "    </tr>\n",
       "    <tr>\n",
       "      <th>1</th>\n",
       "      <td>Current location, sector zed niner.</td>\n",
       "      <td>Localização actual: sector 09.</td>\n",
       "    </tr>\n",
       "    <tr>\n",
       "      <th>2</th>\n",
       "      <td>Approaching location of unidentified spacecraft.</td>\n",
       "      <td>A aproximar-me da localização da nave não iden...</td>\n",
       "    </tr>\n",
       "    <tr>\n",
       "      <th>3</th>\n",
       "      <td>Copy that, pyke.</td>\n",
       "      <td>Entendido, Pyke.</td>\n",
       "    </tr>\n",
       "    <tr>\n",
       "      <th>4</th>\n",
       "      <td>Do you have visual?</td>\n",
       "      <td>Consegues vê-la?</td>\n",
       "    </tr>\n",
       "    <tr>\n",
       "      <th>...</th>\n",
       "      <td>...</td>\n",
       "      <td>...</td>\n",
       "    </tr>\n",
       "    <tr>\n",
       "      <th>933561</th>\n",
       "      <td>If I had another life, I'd be a nun.</td>\n",
       "      <td>Se eu voltar a nascer, irei para freira.</td>\n",
       "    </tr>\n",
       "    <tr>\n",
       "      <th>933562</th>\n",
       "      <td>- Grandpa, give me the case!</td>\n",
       "      <td>- Avô, dá-me a mala.</td>\n",
       "    </tr>\n",
       "    <tr>\n",
       "      <th>933563</th>\n",
       "      <td>- No, I won't.</td>\n",
       "      <td>- Não, não ta dou! Mau!</td>\n",
       "    </tr>\n",
       "    <tr>\n",
       "      <th>933564</th>\n",
       "      <td>You're hurting me, Umberto!</td>\n",
       "      <td>Estás a magoar-me, Umberto!</td>\n",
       "    </tr>\n",
       "    <tr>\n",
       "      <th>933565</th>\n",
       "      <td>Bad boy!</td>\n",
       "      <td>Mau! Mau!</td>\n",
       "    </tr>\n",
       "  </tbody>\n",
       "</table>\n",
       "<p>933566 rows × 2 columns</p>\n",
       "</div>"
      ],
      "text/plain": [
       "                                                  source  \\\n",
       "0                               Pyke to plumber command.   \n",
       "1                    Current location, sector zed niner.   \n",
       "2       Approaching location of unidentified spacecraft.   \n",
       "3                                       Copy that, pyke.   \n",
       "4                                    Do you have visual?   \n",
       "...                                                  ...   \n",
       "933561              If I had another life, I'd be a nun.   \n",
       "933562                      - Grandpa, give me the case!   \n",
       "933563                                    - No, I won't.   \n",
       "933564                       You're hurting me, Umberto!   \n",
       "933565                                          Bad boy!   \n",
       "\n",
       "                                                   target  \n",
       "0                    Pyke para o Comando dos Encanadores.  \n",
       "1                          Localização actual: sector 09.  \n",
       "2       A aproximar-me da localização da nave não iden...  \n",
       "3                                        Entendido, Pyke.  \n",
       "4                                        Consegues vê-la?  \n",
       "...                                                   ...  \n",
       "933561           Se eu voltar a nascer, irei para freira.  \n",
       "933562                               - Avô, dá-me a mala.  \n",
       "933563                            - Não, não ta dou! Mau!  \n",
       "933564                        Estás a magoar-me, Umberto!  \n",
       "933565                                          Mau! Mau!  \n",
       "\n",
       "[933566 rows x 2 columns]"
      ]
     },
     "execution_count": 8,
     "metadata": {},
     "output_type": "execute_result"
    }
   ],
   "source": [
    "df"
   ]
  },
  {
   "cell_type": "code",
   "execution_count": null,
   "metadata": {},
   "outputs": [],
   "source": [
    "# Save it to save time\n",
    "df.to_csv(\"../../data/corpus/en-pt.tsv\", index=False, sep='\\t')"
   ]
  }
 ],
 "metadata": {
  "kernelspec": {
   "display_name": "Python 3.10.8 64-bit",
   "language": "python",
   "name": "python3"
  },
  "language_info": {
   "codemirror_mode": {
    "name": "ipython",
    "version": 3
   },
   "file_extension": ".py",
   "mimetype": "text/x-python",
   "name": "python",
   "nbconvert_exporter": "python",
   "pygments_lexer": "ipython3",
   "version": "3.10.8"
  },
  "orig_nbformat": 4,
  "vscode": {
   "interpreter": {
    "hash": "aee8b7b246df8f9039afb4144a1f6fd8d2ca17a180786b69acc140d282b71a49"
   }
  }
 },
 "nbformat": 4,
 "nbformat_minor": 2
}
